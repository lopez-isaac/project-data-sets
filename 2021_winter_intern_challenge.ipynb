{
  "nbformat": 4,
  "nbformat_minor": 0,
  "metadata": {
    "colab": {
      "name": "2021 winter intern challenge.ipynb",
      "provenance": [],
      "authorship_tag": "ABX9TyMp5PimlU87k6AsK08cqmCY"
    },
    "kernelspec": {
      "name": "python3",
      "display_name": "Python 3"
    }
  },
  "cells": [
    {
      "cell_type": "code",
      "metadata": {
        "id": "p9BRD0F-WdU3",
        "colab_type": "code",
        "colab": {}
      },
      "source": [
        "import pandas as pd\n",
        "import numpy as np\n",
        "import matplotlib.pyplot as plt"
      ],
      "execution_count": 1,
      "outputs": []
    },
    {
      "cell_type": "code",
      "metadata": {
        "id": "BTy40l_qW5zP",
        "colab_type": "code",
        "colab": {}
      },
      "source": [
        "url = \"https://raw.githubusercontent.com/lopez-isaac/project-data-sets/master/2019%20Winter%20Data%20Science%20Intern%20Challenge%20Data%20Set%20-%20Sheet1.csv\"\n",
        "shoe_sales = pd.read_csv(url)"
      ],
      "execution_count": 2,
      "outputs": []
    },
    {
      "cell_type": "code",
      "metadata": {
        "id": "nMNcPDPKXI3E",
        "colab_type": "code",
        "colab": {
          "base_uri": "https://localhost:8080/",
          "height": 221
        },
        "outputId": "85d101dd-e295-4df3-e9a2-fa02ffd55553"
      },
      "source": [
        "print(shoe_sales.shape)\n",
        "shoe_sales.head()"
      ],
      "execution_count": 3,
      "outputs": [
        {
          "output_type": "stream",
          "text": [
            "(5000, 7)\n"
          ],
          "name": "stdout"
        },
        {
          "output_type": "execute_result",
          "data": {
            "text/html": [
              "<div>\n",
              "<style scoped>\n",
              "    .dataframe tbody tr th:only-of-type {\n",
              "        vertical-align: middle;\n",
              "    }\n",
              "\n",
              "    .dataframe tbody tr th {\n",
              "        vertical-align: top;\n",
              "    }\n",
              "\n",
              "    .dataframe thead th {\n",
              "        text-align: right;\n",
              "    }\n",
              "</style>\n",
              "<table border=\"1\" class=\"dataframe\">\n",
              "  <thead>\n",
              "    <tr style=\"text-align: right;\">\n",
              "      <th></th>\n",
              "      <th>order_id</th>\n",
              "      <th>shop_id</th>\n",
              "      <th>user_id</th>\n",
              "      <th>order_amount</th>\n",
              "      <th>total_items</th>\n",
              "      <th>payment_method</th>\n",
              "      <th>created_at</th>\n",
              "    </tr>\n",
              "  </thead>\n",
              "  <tbody>\n",
              "    <tr>\n",
              "      <th>0</th>\n",
              "      <td>1</td>\n",
              "      <td>53</td>\n",
              "      <td>746</td>\n",
              "      <td>224</td>\n",
              "      <td>2</td>\n",
              "      <td>cash</td>\n",
              "      <td>2017-03-13 12:36:56</td>\n",
              "    </tr>\n",
              "    <tr>\n",
              "      <th>1</th>\n",
              "      <td>2</td>\n",
              "      <td>92</td>\n",
              "      <td>925</td>\n",
              "      <td>90</td>\n",
              "      <td>1</td>\n",
              "      <td>cash</td>\n",
              "      <td>2017-03-03 17:38:52</td>\n",
              "    </tr>\n",
              "    <tr>\n",
              "      <th>2</th>\n",
              "      <td>3</td>\n",
              "      <td>44</td>\n",
              "      <td>861</td>\n",
              "      <td>144</td>\n",
              "      <td>1</td>\n",
              "      <td>cash</td>\n",
              "      <td>2017-03-14 4:23:56</td>\n",
              "    </tr>\n",
              "    <tr>\n",
              "      <th>3</th>\n",
              "      <td>4</td>\n",
              "      <td>18</td>\n",
              "      <td>935</td>\n",
              "      <td>156</td>\n",
              "      <td>1</td>\n",
              "      <td>credit_card</td>\n",
              "      <td>2017-03-26 12:43:37</td>\n",
              "    </tr>\n",
              "    <tr>\n",
              "      <th>4</th>\n",
              "      <td>5</td>\n",
              "      <td>18</td>\n",
              "      <td>883</td>\n",
              "      <td>156</td>\n",
              "      <td>1</td>\n",
              "      <td>credit_card</td>\n",
              "      <td>2017-03-01 4:35:11</td>\n",
              "    </tr>\n",
              "  </tbody>\n",
              "</table>\n",
              "</div>"
            ],
            "text/plain": [
              "   order_id  shop_id  user_id  ...  total_items  payment_method           created_at\n",
              "0         1       53      746  ...            2            cash  2017-03-13 12:36:56\n",
              "1         2       92      925  ...            1            cash  2017-03-03 17:38:52\n",
              "2         3       44      861  ...            1            cash   2017-03-14 4:23:56\n",
              "3         4       18      935  ...            1     credit_card  2017-03-26 12:43:37\n",
              "4         5       18      883  ...            1     credit_card   2017-03-01 4:35:11\n",
              "\n",
              "[5 rows x 7 columns]"
            ]
          },
          "metadata": {
            "tags": []
          },
          "execution_count": 3
        }
      ]
    },
    {
      "cell_type": "code",
      "metadata": {
        "id": "LMovCm1DXK_M",
        "colab_type": "code",
        "colab": {
          "base_uri": "https://localhost:8080/",
          "height": 34
        },
        "outputId": "3f987833-16dd-43b7-9929-caaa1f630e89"
      },
      "source": [
        "#average order amount (AOV)\n",
        "shoe_sales[\"order_amount\"].mean()"
      ],
      "execution_count": 4,
      "outputs": [
        {
          "output_type": "execute_result",
          "data": {
            "text/plain": [
              "3145.128"
            ]
          },
          "metadata": {
            "tags": []
          },
          "execution_count": 4
        }
      ]
    },
    {
      "cell_type": "code",
      "metadata": {
        "id": "RqmrT9ofZIja",
        "colab_type": "code",
        "colab": {
          "base_uri": "https://localhost:8080/",
          "height": 170
        },
        "outputId": "d8a34df5-997b-45ec-9dd3-7d4af15db9b6"
      },
      "source": [
        "#quick describtive statistics of the column in question\n",
        "#The the max value in the column is $704000\n",
        "shoe_sales[\"order_amount\"].describe()"
      ],
      "execution_count": 5,
      "outputs": [
        {
          "output_type": "execute_result",
          "data": {
            "text/plain": [
              "count      5000.000000\n",
              "mean       3145.128000\n",
              "std       41282.539349\n",
              "min          90.000000\n",
              "25%         163.000000\n",
              "50%         284.000000\n",
              "75%         390.000000\n",
              "max      704000.000000\n",
              "Name: order_amount, dtype: float64"
            ]
          },
          "metadata": {
            "tags": []
          },
          "execution_count": 5
        }
      ]
    },
    {
      "cell_type": "code",
      "metadata": {
        "id": "7so3erI-ZQKE",
        "colab_type": "code",
        "colab": {
          "base_uri": "https://localhost:8080/",
          "height": 419
        },
        "outputId": "cc418458-0d05-446e-b240-8724be8688c8"
      },
      "source": [
        "shoe_sales.sort_values(by=[\"order_amount\"])\n",
        "#Looking for the outlier. We see that its not some expensive shoe but large large transaction orders."
      ],
      "execution_count": 6,
      "outputs": [
        {
          "output_type": "execute_result",
          "data": {
            "text/html": [
              "<div>\n",
              "<style scoped>\n",
              "    .dataframe tbody tr th:only-of-type {\n",
              "        vertical-align: middle;\n",
              "    }\n",
              "\n",
              "    .dataframe tbody tr th {\n",
              "        vertical-align: top;\n",
              "    }\n",
              "\n",
              "    .dataframe thead th {\n",
              "        text-align: right;\n",
              "    }\n",
              "</style>\n",
              "<table border=\"1\" class=\"dataframe\">\n",
              "  <thead>\n",
              "    <tr style=\"text-align: right;\">\n",
              "      <th></th>\n",
              "      <th>order_id</th>\n",
              "      <th>shop_id</th>\n",
              "      <th>user_id</th>\n",
              "      <th>order_amount</th>\n",
              "      <th>total_items</th>\n",
              "      <th>payment_method</th>\n",
              "      <th>created_at</th>\n",
              "    </tr>\n",
              "  </thead>\n",
              "  <tbody>\n",
              "    <tr>\n",
              "      <th>158</th>\n",
              "      <td>159</td>\n",
              "      <td>92</td>\n",
              "      <td>795</td>\n",
              "      <td>90</td>\n",
              "      <td>1</td>\n",
              "      <td>credit_card</td>\n",
              "      <td>2017-03-29 3:07:12</td>\n",
              "    </tr>\n",
              "    <tr>\n",
              "      <th>3871</th>\n",
              "      <td>3872</td>\n",
              "      <td>92</td>\n",
              "      <td>818</td>\n",
              "      <td>90</td>\n",
              "      <td>1</td>\n",
              "      <td>debit</td>\n",
              "      <td>2017-03-18 9:10:08</td>\n",
              "    </tr>\n",
              "    <tr>\n",
              "      <th>4760</th>\n",
              "      <td>4761</td>\n",
              "      <td>92</td>\n",
              "      <td>937</td>\n",
              "      <td>90</td>\n",
              "      <td>1</td>\n",
              "      <td>debit</td>\n",
              "      <td>2017-03-20 7:37:28</td>\n",
              "    </tr>\n",
              "    <tr>\n",
              "      <th>4923</th>\n",
              "      <td>4924</td>\n",
              "      <td>92</td>\n",
              "      <td>965</td>\n",
              "      <td>90</td>\n",
              "      <td>1</td>\n",
              "      <td>credit_card</td>\n",
              "      <td>2017-03-09 5:05:11</td>\n",
              "    </tr>\n",
              "    <tr>\n",
              "      <th>4932</th>\n",
              "      <td>4933</td>\n",
              "      <td>92</td>\n",
              "      <td>823</td>\n",
              "      <td>90</td>\n",
              "      <td>1</td>\n",
              "      <td>credit_card</td>\n",
              "      <td>2017-03-24 2:17:13</td>\n",
              "    </tr>\n",
              "    <tr>\n",
              "      <th>...</th>\n",
              "      <td>...</td>\n",
              "      <td>...</td>\n",
              "      <td>...</td>\n",
              "      <td>...</td>\n",
              "      <td>...</td>\n",
              "      <td>...</td>\n",
              "      <td>...</td>\n",
              "    </tr>\n",
              "    <tr>\n",
              "      <th>2153</th>\n",
              "      <td>2154</td>\n",
              "      <td>42</td>\n",
              "      <td>607</td>\n",
              "      <td>704000</td>\n",
              "      <td>2000</td>\n",
              "      <td>credit_card</td>\n",
              "      <td>2017-03-12 4:00:00</td>\n",
              "    </tr>\n",
              "    <tr>\n",
              "      <th>1562</th>\n",
              "      <td>1563</td>\n",
              "      <td>42</td>\n",
              "      <td>607</td>\n",
              "      <td>704000</td>\n",
              "      <td>2000</td>\n",
              "      <td>credit_card</td>\n",
              "      <td>2017-03-19 4:00:00</td>\n",
              "    </tr>\n",
              "    <tr>\n",
              "      <th>1362</th>\n",
              "      <td>1363</td>\n",
              "      <td>42</td>\n",
              "      <td>607</td>\n",
              "      <td>704000</td>\n",
              "      <td>2000</td>\n",
              "      <td>credit_card</td>\n",
              "      <td>2017-03-15 4:00:00</td>\n",
              "    </tr>\n",
              "    <tr>\n",
              "      <th>520</th>\n",
              "      <td>521</td>\n",
              "      <td>42</td>\n",
              "      <td>607</td>\n",
              "      <td>704000</td>\n",
              "      <td>2000</td>\n",
              "      <td>credit_card</td>\n",
              "      <td>2017-03-02 4:00:00</td>\n",
              "    </tr>\n",
              "    <tr>\n",
              "      <th>3332</th>\n",
              "      <td>3333</td>\n",
              "      <td>42</td>\n",
              "      <td>607</td>\n",
              "      <td>704000</td>\n",
              "      <td>2000</td>\n",
              "      <td>credit_card</td>\n",
              "      <td>2017-03-24 4:00:00</td>\n",
              "    </tr>\n",
              "  </tbody>\n",
              "</table>\n",
              "<p>5000 rows × 7 columns</p>\n",
              "</div>"
            ],
            "text/plain": [
              "      order_id  shop_id  ...  payment_method          created_at\n",
              "158        159       92  ...     credit_card  2017-03-29 3:07:12\n",
              "3871      3872       92  ...           debit  2017-03-18 9:10:08\n",
              "4760      4761       92  ...           debit  2017-03-20 7:37:28\n",
              "4923      4924       92  ...     credit_card  2017-03-09 5:05:11\n",
              "4932      4933       92  ...     credit_card  2017-03-24 2:17:13\n",
              "...        ...      ...  ...             ...                 ...\n",
              "2153      2154       42  ...     credit_card  2017-03-12 4:00:00\n",
              "1562      1563       42  ...     credit_card  2017-03-19 4:00:00\n",
              "1362      1363       42  ...     credit_card  2017-03-15 4:00:00\n",
              "520        521       42  ...     credit_card  2017-03-02 4:00:00\n",
              "3332      3333       42  ...     credit_card  2017-03-24 4:00:00\n",
              "\n",
              "[5000 rows x 7 columns]"
            ]
          },
          "metadata": {
            "tags": []
          },
          "execution_count": 6
        }
      ]
    },
    {
      "cell_type": "markdown",
      "metadata": {
        "id": "TOWXCTzVbzYF",
        "colab_type": "text"
      },
      "source": [
        "#A.Think about what could be going wrong with our calculation. Think about a better way to evaluate this data.\n",
        "\n",
        "\n",
        "*   The reason for the AOV being $3145 is due to large transaction orders.\n",
        "\n",
        "* However those large transaction orders are not being made oftan customers are being 2 or 1 shoes at a time.\n",
        "\n",
        "* Who is making these large transactions? How oftan? \n",
        "\n",
        "* frequency of different pair purchases?\n",
        "\n",
        "\n"
      ]
    },
    {
      "cell_type": "code",
      "metadata": {
        "id": "7RC2t9Qhct80",
        "colab_type": "code",
        "colab": {
          "base_uri": "https://localhost:8080/",
          "height": 170
        },
        "outputId": "ed250596-d50a-4579-9290-723101897b66"
      },
      "source": [
        "# How many pairs are being bought at once and how oftan\n",
        "shoe_sales['total_items'].value_counts(sort=True, ascending=False)"
      ],
      "execution_count": 7,
      "outputs": [
        {
          "output_type": "execute_result",
          "data": {
            "text/plain": [
              "2       1832\n",
              "1       1830\n",
              "3        941\n",
              "4        293\n",
              "5         77\n",
              "2000      17\n",
              "6          9\n",
              "8          1\n",
              "Name: total_items, dtype: int64"
            ]
          },
          "metadata": {
            "tags": []
          },
          "execution_count": 7
        }
      ]
    },
    {
      "cell_type": "code",
      "metadata": {
        "id": "Fj1g13JRfNfh",
        "colab_type": "code",
        "colab": {}
      },
      "source": [
        "big_spender_df = shoe_sales.loc[shoe_sales['order_amount'] == 704000]"
      ],
      "execution_count": 8,
      "outputs": []
    },
    {
      "cell_type": "code",
      "metadata": {
        "id": "Ndiptxj-fcaV",
        "colab_type": "code",
        "colab": {
          "base_uri": "https://localhost:8080/",
          "height": 593
        },
        "outputId": "cccb9982-dfff-4c5c-b2ce-a4731aed5267"
      },
      "source": [
        "#Same user and sane store is making the repeated large transaction\n",
        "print(big_spender_df.shape)\n",
        "big_spender_df.head(18)"
      ],
      "execution_count": 9,
      "outputs": [
        {
          "output_type": "stream",
          "text": [
            "(17, 7)\n"
          ],
          "name": "stdout"
        },
        {
          "output_type": "execute_result",
          "data": {
            "text/html": [
              "<div>\n",
              "<style scoped>\n",
              "    .dataframe tbody tr th:only-of-type {\n",
              "        vertical-align: middle;\n",
              "    }\n",
              "\n",
              "    .dataframe tbody tr th {\n",
              "        vertical-align: top;\n",
              "    }\n",
              "\n",
              "    .dataframe thead th {\n",
              "        text-align: right;\n",
              "    }\n",
              "</style>\n",
              "<table border=\"1\" class=\"dataframe\">\n",
              "  <thead>\n",
              "    <tr style=\"text-align: right;\">\n",
              "      <th></th>\n",
              "      <th>order_id</th>\n",
              "      <th>shop_id</th>\n",
              "      <th>user_id</th>\n",
              "      <th>order_amount</th>\n",
              "      <th>total_items</th>\n",
              "      <th>payment_method</th>\n",
              "      <th>created_at</th>\n",
              "    </tr>\n",
              "  </thead>\n",
              "  <tbody>\n",
              "    <tr>\n",
              "      <th>15</th>\n",
              "      <td>16</td>\n",
              "      <td>42</td>\n",
              "      <td>607</td>\n",
              "      <td>704000</td>\n",
              "      <td>2000</td>\n",
              "      <td>credit_card</td>\n",
              "      <td>2017-03-07 4:00:00</td>\n",
              "    </tr>\n",
              "    <tr>\n",
              "      <th>60</th>\n",
              "      <td>61</td>\n",
              "      <td>42</td>\n",
              "      <td>607</td>\n",
              "      <td>704000</td>\n",
              "      <td>2000</td>\n",
              "      <td>credit_card</td>\n",
              "      <td>2017-03-04 4:00:00</td>\n",
              "    </tr>\n",
              "    <tr>\n",
              "      <th>520</th>\n",
              "      <td>521</td>\n",
              "      <td>42</td>\n",
              "      <td>607</td>\n",
              "      <td>704000</td>\n",
              "      <td>2000</td>\n",
              "      <td>credit_card</td>\n",
              "      <td>2017-03-02 4:00:00</td>\n",
              "    </tr>\n",
              "    <tr>\n",
              "      <th>1104</th>\n",
              "      <td>1105</td>\n",
              "      <td>42</td>\n",
              "      <td>607</td>\n",
              "      <td>704000</td>\n",
              "      <td>2000</td>\n",
              "      <td>credit_card</td>\n",
              "      <td>2017-03-24 4:00:00</td>\n",
              "    </tr>\n",
              "    <tr>\n",
              "      <th>1362</th>\n",
              "      <td>1363</td>\n",
              "      <td>42</td>\n",
              "      <td>607</td>\n",
              "      <td>704000</td>\n",
              "      <td>2000</td>\n",
              "      <td>credit_card</td>\n",
              "      <td>2017-03-15 4:00:00</td>\n",
              "    </tr>\n",
              "    <tr>\n",
              "      <th>1436</th>\n",
              "      <td>1437</td>\n",
              "      <td>42</td>\n",
              "      <td>607</td>\n",
              "      <td>704000</td>\n",
              "      <td>2000</td>\n",
              "      <td>credit_card</td>\n",
              "      <td>2017-03-11 4:00:00</td>\n",
              "    </tr>\n",
              "    <tr>\n",
              "      <th>1562</th>\n",
              "      <td>1563</td>\n",
              "      <td>42</td>\n",
              "      <td>607</td>\n",
              "      <td>704000</td>\n",
              "      <td>2000</td>\n",
              "      <td>credit_card</td>\n",
              "      <td>2017-03-19 4:00:00</td>\n",
              "    </tr>\n",
              "    <tr>\n",
              "      <th>1602</th>\n",
              "      <td>1603</td>\n",
              "      <td>42</td>\n",
              "      <td>607</td>\n",
              "      <td>704000</td>\n",
              "      <td>2000</td>\n",
              "      <td>credit_card</td>\n",
              "      <td>2017-03-17 4:00:00</td>\n",
              "    </tr>\n",
              "    <tr>\n",
              "      <th>2153</th>\n",
              "      <td>2154</td>\n",
              "      <td>42</td>\n",
              "      <td>607</td>\n",
              "      <td>704000</td>\n",
              "      <td>2000</td>\n",
              "      <td>credit_card</td>\n",
              "      <td>2017-03-12 4:00:00</td>\n",
              "    </tr>\n",
              "    <tr>\n",
              "      <th>2297</th>\n",
              "      <td>2298</td>\n",
              "      <td>42</td>\n",
              "      <td>607</td>\n",
              "      <td>704000</td>\n",
              "      <td>2000</td>\n",
              "      <td>credit_card</td>\n",
              "      <td>2017-03-07 4:00:00</td>\n",
              "    </tr>\n",
              "    <tr>\n",
              "      <th>2835</th>\n",
              "      <td>2836</td>\n",
              "      <td>42</td>\n",
              "      <td>607</td>\n",
              "      <td>704000</td>\n",
              "      <td>2000</td>\n",
              "      <td>credit_card</td>\n",
              "      <td>2017-03-28 4:00:00</td>\n",
              "    </tr>\n",
              "    <tr>\n",
              "      <th>2969</th>\n",
              "      <td>2970</td>\n",
              "      <td>42</td>\n",
              "      <td>607</td>\n",
              "      <td>704000</td>\n",
              "      <td>2000</td>\n",
              "      <td>credit_card</td>\n",
              "      <td>2017-03-28 4:00:00</td>\n",
              "    </tr>\n",
              "    <tr>\n",
              "      <th>3332</th>\n",
              "      <td>3333</td>\n",
              "      <td>42</td>\n",
              "      <td>607</td>\n",
              "      <td>704000</td>\n",
              "      <td>2000</td>\n",
              "      <td>credit_card</td>\n",
              "      <td>2017-03-24 4:00:00</td>\n",
              "    </tr>\n",
              "    <tr>\n",
              "      <th>4056</th>\n",
              "      <td>4057</td>\n",
              "      <td>42</td>\n",
              "      <td>607</td>\n",
              "      <td>704000</td>\n",
              "      <td>2000</td>\n",
              "      <td>credit_card</td>\n",
              "      <td>2017-03-28 4:00:00</td>\n",
              "    </tr>\n",
              "    <tr>\n",
              "      <th>4646</th>\n",
              "      <td>4647</td>\n",
              "      <td>42</td>\n",
              "      <td>607</td>\n",
              "      <td>704000</td>\n",
              "      <td>2000</td>\n",
              "      <td>credit_card</td>\n",
              "      <td>2017-03-02 4:00:00</td>\n",
              "    </tr>\n",
              "    <tr>\n",
              "      <th>4868</th>\n",
              "      <td>4869</td>\n",
              "      <td>42</td>\n",
              "      <td>607</td>\n",
              "      <td>704000</td>\n",
              "      <td>2000</td>\n",
              "      <td>credit_card</td>\n",
              "      <td>2017-03-22 4:00:00</td>\n",
              "    </tr>\n",
              "    <tr>\n",
              "      <th>4882</th>\n",
              "      <td>4883</td>\n",
              "      <td>42</td>\n",
              "      <td>607</td>\n",
              "      <td>704000</td>\n",
              "      <td>2000</td>\n",
              "      <td>credit_card</td>\n",
              "      <td>2017-03-25 4:00:00</td>\n",
              "    </tr>\n",
              "  </tbody>\n",
              "</table>\n",
              "</div>"
            ],
            "text/plain": [
              "      order_id  shop_id  ...  payment_method          created_at\n",
              "15          16       42  ...     credit_card  2017-03-07 4:00:00\n",
              "60          61       42  ...     credit_card  2017-03-04 4:00:00\n",
              "520        521       42  ...     credit_card  2017-03-02 4:00:00\n",
              "1104      1105       42  ...     credit_card  2017-03-24 4:00:00\n",
              "1362      1363       42  ...     credit_card  2017-03-15 4:00:00\n",
              "1436      1437       42  ...     credit_card  2017-03-11 4:00:00\n",
              "1562      1563       42  ...     credit_card  2017-03-19 4:00:00\n",
              "1602      1603       42  ...     credit_card  2017-03-17 4:00:00\n",
              "2153      2154       42  ...     credit_card  2017-03-12 4:00:00\n",
              "2297      2298       42  ...     credit_card  2017-03-07 4:00:00\n",
              "2835      2836       42  ...     credit_card  2017-03-28 4:00:00\n",
              "2969      2970       42  ...     credit_card  2017-03-28 4:00:00\n",
              "3332      3333       42  ...     credit_card  2017-03-24 4:00:00\n",
              "4056      4057       42  ...     credit_card  2017-03-28 4:00:00\n",
              "4646      4647       42  ...     credit_card  2017-03-02 4:00:00\n",
              "4868      4869       42  ...     credit_card  2017-03-22 4:00:00\n",
              "4882      4883       42  ...     credit_card  2017-03-25 4:00:00\n",
              "\n",
              "[17 rows x 7 columns]"
            ]
          },
          "metadata": {
            "tags": []
          },
          "execution_count": 9
        }
      ]
    },
    {
      "cell_type": "code",
      "metadata": {
        "id": "UUS6R4OuhOvv",
        "colab_type": "code",
        "colab": {
          "base_uri": "https://localhost:8080/",
          "height": 576
        },
        "outputId": "e212d1c4-dd35-42e8-a72b-2d0bf7b3db17"
      },
      "source": [
        "#How oftan?\n",
        "#There isn't specific pattern, but a purchase is made within at least 4 days\n",
        "big_spender_df.sort_values(by=[\"created_at\"])"
      ],
      "execution_count": 10,
      "outputs": [
        {
          "output_type": "execute_result",
          "data": {
            "text/html": [
              "<div>\n",
              "<style scoped>\n",
              "    .dataframe tbody tr th:only-of-type {\n",
              "        vertical-align: middle;\n",
              "    }\n",
              "\n",
              "    .dataframe tbody tr th {\n",
              "        vertical-align: top;\n",
              "    }\n",
              "\n",
              "    .dataframe thead th {\n",
              "        text-align: right;\n",
              "    }\n",
              "</style>\n",
              "<table border=\"1\" class=\"dataframe\">\n",
              "  <thead>\n",
              "    <tr style=\"text-align: right;\">\n",
              "      <th></th>\n",
              "      <th>order_id</th>\n",
              "      <th>shop_id</th>\n",
              "      <th>user_id</th>\n",
              "      <th>order_amount</th>\n",
              "      <th>total_items</th>\n",
              "      <th>payment_method</th>\n",
              "      <th>created_at</th>\n",
              "    </tr>\n",
              "  </thead>\n",
              "  <tbody>\n",
              "    <tr>\n",
              "      <th>520</th>\n",
              "      <td>521</td>\n",
              "      <td>42</td>\n",
              "      <td>607</td>\n",
              "      <td>704000</td>\n",
              "      <td>2000</td>\n",
              "      <td>credit_card</td>\n",
              "      <td>2017-03-02 4:00:00</td>\n",
              "    </tr>\n",
              "    <tr>\n",
              "      <th>4646</th>\n",
              "      <td>4647</td>\n",
              "      <td>42</td>\n",
              "      <td>607</td>\n",
              "      <td>704000</td>\n",
              "      <td>2000</td>\n",
              "      <td>credit_card</td>\n",
              "      <td>2017-03-02 4:00:00</td>\n",
              "    </tr>\n",
              "    <tr>\n",
              "      <th>60</th>\n",
              "      <td>61</td>\n",
              "      <td>42</td>\n",
              "      <td>607</td>\n",
              "      <td>704000</td>\n",
              "      <td>2000</td>\n",
              "      <td>credit_card</td>\n",
              "      <td>2017-03-04 4:00:00</td>\n",
              "    </tr>\n",
              "    <tr>\n",
              "      <th>15</th>\n",
              "      <td>16</td>\n",
              "      <td>42</td>\n",
              "      <td>607</td>\n",
              "      <td>704000</td>\n",
              "      <td>2000</td>\n",
              "      <td>credit_card</td>\n",
              "      <td>2017-03-07 4:00:00</td>\n",
              "    </tr>\n",
              "    <tr>\n",
              "      <th>2297</th>\n",
              "      <td>2298</td>\n",
              "      <td>42</td>\n",
              "      <td>607</td>\n",
              "      <td>704000</td>\n",
              "      <td>2000</td>\n",
              "      <td>credit_card</td>\n",
              "      <td>2017-03-07 4:00:00</td>\n",
              "    </tr>\n",
              "    <tr>\n",
              "      <th>1436</th>\n",
              "      <td>1437</td>\n",
              "      <td>42</td>\n",
              "      <td>607</td>\n",
              "      <td>704000</td>\n",
              "      <td>2000</td>\n",
              "      <td>credit_card</td>\n",
              "      <td>2017-03-11 4:00:00</td>\n",
              "    </tr>\n",
              "    <tr>\n",
              "      <th>2153</th>\n",
              "      <td>2154</td>\n",
              "      <td>42</td>\n",
              "      <td>607</td>\n",
              "      <td>704000</td>\n",
              "      <td>2000</td>\n",
              "      <td>credit_card</td>\n",
              "      <td>2017-03-12 4:00:00</td>\n",
              "    </tr>\n",
              "    <tr>\n",
              "      <th>1362</th>\n",
              "      <td>1363</td>\n",
              "      <td>42</td>\n",
              "      <td>607</td>\n",
              "      <td>704000</td>\n",
              "      <td>2000</td>\n",
              "      <td>credit_card</td>\n",
              "      <td>2017-03-15 4:00:00</td>\n",
              "    </tr>\n",
              "    <tr>\n",
              "      <th>1602</th>\n",
              "      <td>1603</td>\n",
              "      <td>42</td>\n",
              "      <td>607</td>\n",
              "      <td>704000</td>\n",
              "      <td>2000</td>\n",
              "      <td>credit_card</td>\n",
              "      <td>2017-03-17 4:00:00</td>\n",
              "    </tr>\n",
              "    <tr>\n",
              "      <th>1562</th>\n",
              "      <td>1563</td>\n",
              "      <td>42</td>\n",
              "      <td>607</td>\n",
              "      <td>704000</td>\n",
              "      <td>2000</td>\n",
              "      <td>credit_card</td>\n",
              "      <td>2017-03-19 4:00:00</td>\n",
              "    </tr>\n",
              "    <tr>\n",
              "      <th>4868</th>\n",
              "      <td>4869</td>\n",
              "      <td>42</td>\n",
              "      <td>607</td>\n",
              "      <td>704000</td>\n",
              "      <td>2000</td>\n",
              "      <td>credit_card</td>\n",
              "      <td>2017-03-22 4:00:00</td>\n",
              "    </tr>\n",
              "    <tr>\n",
              "      <th>3332</th>\n",
              "      <td>3333</td>\n",
              "      <td>42</td>\n",
              "      <td>607</td>\n",
              "      <td>704000</td>\n",
              "      <td>2000</td>\n",
              "      <td>credit_card</td>\n",
              "      <td>2017-03-24 4:00:00</td>\n",
              "    </tr>\n",
              "    <tr>\n",
              "      <th>1104</th>\n",
              "      <td>1105</td>\n",
              "      <td>42</td>\n",
              "      <td>607</td>\n",
              "      <td>704000</td>\n",
              "      <td>2000</td>\n",
              "      <td>credit_card</td>\n",
              "      <td>2017-03-24 4:00:00</td>\n",
              "    </tr>\n",
              "    <tr>\n",
              "      <th>4882</th>\n",
              "      <td>4883</td>\n",
              "      <td>42</td>\n",
              "      <td>607</td>\n",
              "      <td>704000</td>\n",
              "      <td>2000</td>\n",
              "      <td>credit_card</td>\n",
              "      <td>2017-03-25 4:00:00</td>\n",
              "    </tr>\n",
              "    <tr>\n",
              "      <th>2835</th>\n",
              "      <td>2836</td>\n",
              "      <td>42</td>\n",
              "      <td>607</td>\n",
              "      <td>704000</td>\n",
              "      <td>2000</td>\n",
              "      <td>credit_card</td>\n",
              "      <td>2017-03-28 4:00:00</td>\n",
              "    </tr>\n",
              "    <tr>\n",
              "      <th>2969</th>\n",
              "      <td>2970</td>\n",
              "      <td>42</td>\n",
              "      <td>607</td>\n",
              "      <td>704000</td>\n",
              "      <td>2000</td>\n",
              "      <td>credit_card</td>\n",
              "      <td>2017-03-28 4:00:00</td>\n",
              "    </tr>\n",
              "    <tr>\n",
              "      <th>4056</th>\n",
              "      <td>4057</td>\n",
              "      <td>42</td>\n",
              "      <td>607</td>\n",
              "      <td>704000</td>\n",
              "      <td>2000</td>\n",
              "      <td>credit_card</td>\n",
              "      <td>2017-03-28 4:00:00</td>\n",
              "    </tr>\n",
              "  </tbody>\n",
              "</table>\n",
              "</div>"
            ],
            "text/plain": [
              "      order_id  shop_id  ...  payment_method          created_at\n",
              "520        521       42  ...     credit_card  2017-03-02 4:00:00\n",
              "4646      4647       42  ...     credit_card  2017-03-02 4:00:00\n",
              "60          61       42  ...     credit_card  2017-03-04 4:00:00\n",
              "15          16       42  ...     credit_card  2017-03-07 4:00:00\n",
              "2297      2298       42  ...     credit_card  2017-03-07 4:00:00\n",
              "1436      1437       42  ...     credit_card  2017-03-11 4:00:00\n",
              "2153      2154       42  ...     credit_card  2017-03-12 4:00:00\n",
              "1362      1363       42  ...     credit_card  2017-03-15 4:00:00\n",
              "1602      1603       42  ...     credit_card  2017-03-17 4:00:00\n",
              "1562      1563       42  ...     credit_card  2017-03-19 4:00:00\n",
              "4868      4869       42  ...     credit_card  2017-03-22 4:00:00\n",
              "3332      3333       42  ...     credit_card  2017-03-24 4:00:00\n",
              "1104      1105       42  ...     credit_card  2017-03-24 4:00:00\n",
              "4882      4883       42  ...     credit_card  2017-03-25 4:00:00\n",
              "2835      2836       42  ...     credit_card  2017-03-28 4:00:00\n",
              "2969      2970       42  ...     credit_card  2017-03-28 4:00:00\n",
              "4056      4057       42  ...     credit_card  2017-03-28 4:00:00\n",
              "\n",
              "[17 rows x 7 columns]"
            ]
          },
          "metadata": {
            "tags": []
          },
          "execution_count": 10
        }
      ]
    },
    {
      "cell_type": "markdown",
      "metadata": {
        "id": "k_pHec0VoYmy",
        "colab_type": "text"
      },
      "source": [
        "\n",
        "* Do All the shoes cost them same\n",
        "*   What store Selling the most items?\n",
        "*   What store is making the most revanue?\n",
        "\n"
      ]
    },
    {
      "cell_type": "code",
      "metadata": {
        "id": "nAdE8kz2onpq",
        "colab_type": "code",
        "colab": {}
      },
      "source": [
        "# Do all the shoes cost the same\n",
        "shoe_price = shoe_sales.loc[shoe_sales['total_items'] == 1].drop_duplicates(subset=[\"shop_id\"])"
      ],
      "execution_count": 11,
      "outputs": []
    },
    {
      "cell_type": "code",
      "metadata": {
        "id": "Gb8Q4YFave5A",
        "colab_type": "code",
        "colab": {
          "base_uri": "https://localhost:8080/",
          "height": 204
        },
        "outputId": "7a6f034b-f5b5-4853-825c-87e1cc2001c6"
      },
      "source": [
        "shoe_price.head()"
      ],
      "execution_count": 12,
      "outputs": [
        {
          "output_type": "execute_result",
          "data": {
            "text/html": [
              "<div>\n",
              "<style scoped>\n",
              "    .dataframe tbody tr th:only-of-type {\n",
              "        vertical-align: middle;\n",
              "    }\n",
              "\n",
              "    .dataframe tbody tr th {\n",
              "        vertical-align: top;\n",
              "    }\n",
              "\n",
              "    .dataframe thead th {\n",
              "        text-align: right;\n",
              "    }\n",
              "</style>\n",
              "<table border=\"1\" class=\"dataframe\">\n",
              "  <thead>\n",
              "    <tr style=\"text-align: right;\">\n",
              "      <th></th>\n",
              "      <th>order_id</th>\n",
              "      <th>shop_id</th>\n",
              "      <th>user_id</th>\n",
              "      <th>order_amount</th>\n",
              "      <th>total_items</th>\n",
              "      <th>payment_method</th>\n",
              "      <th>created_at</th>\n",
              "    </tr>\n",
              "  </thead>\n",
              "  <tbody>\n",
              "    <tr>\n",
              "      <th>1</th>\n",
              "      <td>2</td>\n",
              "      <td>92</td>\n",
              "      <td>925</td>\n",
              "      <td>90</td>\n",
              "      <td>1</td>\n",
              "      <td>cash</td>\n",
              "      <td>2017-03-03 17:38:52</td>\n",
              "    </tr>\n",
              "    <tr>\n",
              "      <th>2</th>\n",
              "      <td>3</td>\n",
              "      <td>44</td>\n",
              "      <td>861</td>\n",
              "      <td>144</td>\n",
              "      <td>1</td>\n",
              "      <td>cash</td>\n",
              "      <td>2017-03-14 4:23:56</td>\n",
              "    </tr>\n",
              "    <tr>\n",
              "      <th>3</th>\n",
              "      <td>4</td>\n",
              "      <td>18</td>\n",
              "      <td>935</td>\n",
              "      <td>156</td>\n",
              "      <td>1</td>\n",
              "      <td>credit_card</td>\n",
              "      <td>2017-03-26 12:43:37</td>\n",
              "    </tr>\n",
              "    <tr>\n",
              "      <th>5</th>\n",
              "      <td>6</td>\n",
              "      <td>58</td>\n",
              "      <td>882</td>\n",
              "      <td>138</td>\n",
              "      <td>1</td>\n",
              "      <td>credit_card</td>\n",
              "      <td>2017-03-14 15:25:01</td>\n",
              "    </tr>\n",
              "    <tr>\n",
              "      <th>6</th>\n",
              "      <td>7</td>\n",
              "      <td>87</td>\n",
              "      <td>915</td>\n",
              "      <td>149</td>\n",
              "      <td>1</td>\n",
              "      <td>cash</td>\n",
              "      <td>2017-03-01 21:37:57</td>\n",
              "    </tr>\n",
              "  </tbody>\n",
              "</table>\n",
              "</div>"
            ],
            "text/plain": [
              "   order_id  shop_id  user_id  ...  total_items  payment_method           created_at\n",
              "1         2       92      925  ...            1            cash  2017-03-03 17:38:52\n",
              "2         3       44      861  ...            1            cash   2017-03-14 4:23:56\n",
              "3         4       18      935  ...            1     credit_card  2017-03-26 12:43:37\n",
              "5         6       58      882  ...            1     credit_card  2017-03-14 15:25:01\n",
              "6         7       87      915  ...            1            cash  2017-03-01 21:37:57\n",
              "\n",
              "[5 rows x 7 columns]"
            ]
          },
          "metadata": {
            "tags": []
          },
          "execution_count": 12
        }
      ]
    },
    {
      "cell_type": "code",
      "metadata": {
        "id": "XmBAF9OxsTLq",
        "colab_type": "code",
        "colab": {
          "base_uri": "https://localhost:8080/",
          "height": 170
        },
        "outputId": "44288ba1-4309-4638-d414-d79cab627786"
      },
      "source": [
        "#range of prices\n",
        "#cheapest shoe is $90, highest is $25725\n",
        "shoe_price['order_amount'].describe()"
      ],
      "execution_count": 13,
      "outputs": [
        {
          "output_type": "execute_result",
          "data": {
            "text/plain": [
              "count      100.000000\n",
              "mean       407.990000\n",
              "std       2557.462906\n",
              "min         90.000000\n",
              "25%        132.750000\n",
              "50%        153.000000\n",
              "75%        168.250000\n",
              "max      25725.000000\n",
              "Name: order_amount, dtype: float64"
            ]
          },
          "metadata": {
            "tags": []
          },
          "execution_count": 13
        }
      ]
    },
    {
      "cell_type": "code",
      "metadata": {
        "id": "zB0onh2IuPrr",
        "colab_type": "code",
        "colab": {
          "base_uri": "https://localhost:8080/",
          "height": 80
        },
        "outputId": "9d1d47ba-f505-4aa7-ec33-aee7c10fc5de"
      },
      "source": [
        "#what shops are selling this expensive shoe\n",
        "shoe_price.loc[shoe_price['order_amount'] == 25725]"
      ],
      "execution_count": 14,
      "outputs": [
        {
          "output_type": "execute_result",
          "data": {
            "text/html": [
              "<div>\n",
              "<style scoped>\n",
              "    .dataframe tbody tr th:only-of-type {\n",
              "        vertical-align: middle;\n",
              "    }\n",
              "\n",
              "    .dataframe tbody tr th {\n",
              "        vertical-align: top;\n",
              "    }\n",
              "\n",
              "    .dataframe thead th {\n",
              "        text-align: right;\n",
              "    }\n",
              "</style>\n",
              "<table border=\"1\" class=\"dataframe\">\n",
              "  <thead>\n",
              "    <tr style=\"text-align: right;\">\n",
              "      <th></th>\n",
              "      <th>order_id</th>\n",
              "      <th>shop_id</th>\n",
              "      <th>user_id</th>\n",
              "      <th>order_amount</th>\n",
              "      <th>total_items</th>\n",
              "      <th>payment_method</th>\n",
              "      <th>created_at</th>\n",
              "    </tr>\n",
              "  </thead>\n",
              "  <tbody>\n",
              "    <tr>\n",
              "      <th>160</th>\n",
              "      <td>161</td>\n",
              "      <td>78</td>\n",
              "      <td>990</td>\n",
              "      <td>25725</td>\n",
              "      <td>1</td>\n",
              "      <td>credit_card</td>\n",
              "      <td>2017-03-12 5:56:57</td>\n",
              "    </tr>\n",
              "  </tbody>\n",
              "</table>\n",
              "</div>"
            ],
            "text/plain": [
              "     order_id  shop_id  user_id  ...  total_items  payment_method          created_at\n",
              "160       161       78      990  ...            1     credit_card  2017-03-12 5:56:57\n",
              "\n",
              "[1 rows x 7 columns]"
            ]
          },
          "metadata": {
            "tags": []
          },
          "execution_count": 14
        }
      ]
    },
    {
      "cell_type": "code",
      "metadata": {
        "id": "XN0a98F_xoHO",
        "colab_type": "code",
        "colab": {
          "base_uri": "https://localhost:8080/",
          "height": 204
        },
        "outputId": "f750e8e4-aa68-43c8-e0ce-52bcc55cdd17"
      },
      "source": [
        "#dataframe used to do inner join on main dataset\n",
        "shoe_price = shoe_price.rename(columns={\"order_amount\":\"shoe_value\"})\n",
        "shoe_price_merge_df = shoe_price[[\"shoe_value\", \"shop_id\"]]\n",
        "shoe_price_merge_df.head()"
      ],
      "execution_count": 15,
      "outputs": [
        {
          "output_type": "execute_result",
          "data": {
            "text/html": [
              "<div>\n",
              "<style scoped>\n",
              "    .dataframe tbody tr th:only-of-type {\n",
              "        vertical-align: middle;\n",
              "    }\n",
              "\n",
              "    .dataframe tbody tr th {\n",
              "        vertical-align: top;\n",
              "    }\n",
              "\n",
              "    .dataframe thead th {\n",
              "        text-align: right;\n",
              "    }\n",
              "</style>\n",
              "<table border=\"1\" class=\"dataframe\">\n",
              "  <thead>\n",
              "    <tr style=\"text-align: right;\">\n",
              "      <th></th>\n",
              "      <th>shoe_value</th>\n",
              "      <th>shop_id</th>\n",
              "    </tr>\n",
              "  </thead>\n",
              "  <tbody>\n",
              "    <tr>\n",
              "      <th>1</th>\n",
              "      <td>90</td>\n",
              "      <td>92</td>\n",
              "    </tr>\n",
              "    <tr>\n",
              "      <th>2</th>\n",
              "      <td>144</td>\n",
              "      <td>44</td>\n",
              "    </tr>\n",
              "    <tr>\n",
              "      <th>3</th>\n",
              "      <td>156</td>\n",
              "      <td>18</td>\n",
              "    </tr>\n",
              "    <tr>\n",
              "      <th>5</th>\n",
              "      <td>138</td>\n",
              "      <td>58</td>\n",
              "    </tr>\n",
              "    <tr>\n",
              "      <th>6</th>\n",
              "      <td>149</td>\n",
              "      <td>87</td>\n",
              "    </tr>\n",
              "  </tbody>\n",
              "</table>\n",
              "</div>"
            ],
            "text/plain": [
              "   shoe_value  shop_id\n",
              "1          90       92\n",
              "2         144       44\n",
              "3         156       18\n",
              "5         138       58\n",
              "6         149       87"
            ]
          },
          "metadata": {
            "tags": []
          },
          "execution_count": 15
        }
      ]
    },
    {
      "cell_type": "code",
      "metadata": {
        "id": "Cupvnd_htvkA",
        "colab_type": "code",
        "colab": {
          "base_uri": "https://localhost:8080/",
          "height": 204
        },
        "outputId": "335219d6-8ea1-45bb-adcd-ea6aacca9174"
      },
      "source": [
        "#add this featured column to dataset\n",
        "shoe_sales = pd.merge(shoe_sales,shoe_price_merge_df,on='shop_id')\n",
        "shoe_sales.head()"
      ],
      "execution_count": 16,
      "outputs": [
        {
          "output_type": "execute_result",
          "data": {
            "text/html": [
              "<div>\n",
              "<style scoped>\n",
              "    .dataframe tbody tr th:only-of-type {\n",
              "        vertical-align: middle;\n",
              "    }\n",
              "\n",
              "    .dataframe tbody tr th {\n",
              "        vertical-align: top;\n",
              "    }\n",
              "\n",
              "    .dataframe thead th {\n",
              "        text-align: right;\n",
              "    }\n",
              "</style>\n",
              "<table border=\"1\" class=\"dataframe\">\n",
              "  <thead>\n",
              "    <tr style=\"text-align: right;\">\n",
              "      <th></th>\n",
              "      <th>order_id</th>\n",
              "      <th>shop_id</th>\n",
              "      <th>user_id</th>\n",
              "      <th>order_amount</th>\n",
              "      <th>total_items</th>\n",
              "      <th>payment_method</th>\n",
              "      <th>created_at</th>\n",
              "      <th>shoe_value</th>\n",
              "    </tr>\n",
              "  </thead>\n",
              "  <tbody>\n",
              "    <tr>\n",
              "      <th>0</th>\n",
              "      <td>1</td>\n",
              "      <td>53</td>\n",
              "      <td>746</td>\n",
              "      <td>224</td>\n",
              "      <td>2</td>\n",
              "      <td>cash</td>\n",
              "      <td>2017-03-13 12:36:56</td>\n",
              "      <td>112</td>\n",
              "    </tr>\n",
              "    <tr>\n",
              "      <th>1</th>\n",
              "      <td>28</td>\n",
              "      <td>53</td>\n",
              "      <td>942</td>\n",
              "      <td>112</td>\n",
              "      <td>1</td>\n",
              "      <td>credit_card</td>\n",
              "      <td>2017-03-17 9:41:53</td>\n",
              "      <td>112</td>\n",
              "    </tr>\n",
              "    <tr>\n",
              "      <th>2</th>\n",
              "      <td>57</td>\n",
              "      <td>53</td>\n",
              "      <td>739</td>\n",
              "      <td>560</td>\n",
              "      <td>5</td>\n",
              "      <td>credit_card</td>\n",
              "      <td>2017-03-18 8:45:21</td>\n",
              "      <td>112</td>\n",
              "    </tr>\n",
              "    <tr>\n",
              "      <th>3</th>\n",
              "      <td>86</td>\n",
              "      <td>53</td>\n",
              "      <td>908</td>\n",
              "      <td>224</td>\n",
              "      <td>2</td>\n",
              "      <td>credit_card</td>\n",
              "      <td>2017-03-27 20:46:35</td>\n",
              "      <td>112</td>\n",
              "    </tr>\n",
              "    <tr>\n",
              "      <th>4</th>\n",
              "      <td>104</td>\n",
              "      <td>53</td>\n",
              "      <td>740</td>\n",
              "      <td>224</td>\n",
              "      <td>2</td>\n",
              "      <td>cash</td>\n",
              "      <td>2017-03-17 7:29:30</td>\n",
              "      <td>112</td>\n",
              "    </tr>\n",
              "  </tbody>\n",
              "</table>\n",
              "</div>"
            ],
            "text/plain": [
              "   order_id  shop_id  user_id  ...  payment_method           created_at shoe_value\n",
              "0         1       53      746  ...            cash  2017-03-13 12:36:56        112\n",
              "1        28       53      942  ...     credit_card   2017-03-17 9:41:53        112\n",
              "2        57       53      739  ...     credit_card   2017-03-18 8:45:21        112\n",
              "3        86       53      908  ...     credit_card  2017-03-27 20:46:35        112\n",
              "4       104       53      740  ...            cash   2017-03-17 7:29:30        112\n",
              "\n",
              "[5 rows x 8 columns]"
            ]
          },
          "metadata": {
            "tags": []
          },
          "execution_count": 16
        }
      ]
    },
    {
      "cell_type": "code",
      "metadata": {
        "id": "zTOXsnDapR2C",
        "colab_type": "code",
        "colab": {
          "base_uri": "https://localhost:8080/",
          "height": 238
        },
        "outputId": "d367cbb8-473a-4d57-9671-6083b73cce9e"
      },
      "source": [
        "#are customers buying cheaper shoes more oftan than expensive shoes?\n",
        "shoe_sales.groupby([\"shoe_value\", \"shop_id\"])[\"total_items\"].sum().sort_values(ascending=False)"
      ],
      "execution_count": 17,
      "outputs": [
        {
          "output_type": "execute_result",
          "data": {
            "text/plain": [
              "shoe_value  shop_id\n",
              "352         42         34063\n",
              "160         13           136\n",
              "153         84           132\n",
              "164         71           130\n",
              "112         53           130\n",
              "                       ...  \n",
              "190         38            72\n",
              "144         44            71\n",
              "156         16            71\n",
              "117         56            69\n",
              "172         85            67\n",
              "Name: total_items, Length: 100, dtype: int64"
            ]
          },
          "metadata": {
            "tags": []
          },
          "execution_count": 17
        }
      ]
    },
    {
      "cell_type": "markdown",
      "metadata": {
        "id": "Ab3TtL9lsLiD",
        "colab_type": "text"
      },
      "source": [
        "#Final analysis\n",
        "\n",
        "##b.What metric would you report for this dataset?\n",
        "\n",
        "I would use the total items column. More specifically the frequency of how many pairs are being purchased at once. From that you could create promotions involving multiple shoe pair purchases for both consumer and business. Single purchase transactions do not outnumber the sum of all multy pair purchases. \n",
        "##c.What is its value?\n",
        "\n",
        "\n"
      ]
    },
    {
      "cell_type": "code",
      "metadata": {
        "id": "v-a4Oowet5d0",
        "colab_type": "code",
        "colab": {
          "base_uri": "https://localhost:8080/",
          "height": 170
        },
        "outputId": "c45ecf41-2bff-470a-ca47-aba517ec4cda"
      },
      "source": [
        "# Frequency of how many pairs are being bought at once\n",
        "shoe_sales['total_items'].value_counts(sort=True, ascending=False)"
      ],
      "execution_count": 18,
      "outputs": [
        {
          "output_type": "execute_result",
          "data": {
            "text/plain": [
              "2       1832\n",
              "1       1830\n",
              "3        941\n",
              "4        293\n",
              "5         77\n",
              "2000      17\n",
              "6          9\n",
              "8          1\n",
              "Name: total_items, dtype: int64"
            ]
          },
          "metadata": {
            "tags": []
          },
          "execution_count": 18
        }
      ]
    },
    {
      "cell_type": "markdown",
      "metadata": {
        "id": "qW7mW-a5qYTN",
        "colab_type": "text"
      },
      "source": [
        "#How many orders were shipped by Speedy Express in total?\n",
        "\n",
        "###SQL statement\n",
        "SELECT COUNT(shipperid) FROM [Orders]\n",
        "\n",
        "WHERE shipperid = 1;\n",
        "\n",
        "#ANSWER: \n",
        "54\n"
      ]
    },
    {
      "cell_type": "markdown",
      "metadata": {
        "id": "GQXuuXEZwHJ0",
        "colab_type": "text"
      },
      "source": [
        "#What is the last name of the employee with the most orders?\n",
        "\n",
        "###SQL statement\n",
        "\n",
        "SELECT employeeid, lastname, COUNT(EmployeeID) \n",
        "\n",
        "FROM (SELECT * FROM orders\n",
        "\n",
        "INNER join employees\n",
        "\t\n",
        "\n",
        "\n",
        "> on orders.employeeid = employees.employeeid)\n",
        "\n",
        "\n",
        "\n",
        "GROUP BY employeeid\n",
        "\n",
        "ORDER BY count(employeeid) DESC\n",
        "\n",
        "LIMIT 1\n",
        "\n",
        "\n",
        "#ANSWER:\n",
        "EmployeeID: 4\t\n",
        "LastName: Peacock\t\n",
        "COUNT(EmployeeID):40"
      ]
    },
    {
      "cell_type": "markdown",
      "metadata": {
        "id": "Xo_uWyHow1oA",
        "colab_type": "text"
      },
      "source": [
        "#What product was ordered the most by customers in Germany?\n",
        "\n",
        "###SQL statement\n",
        "\n",
        "SELECT Country, ProductID, SUM(Quantity), Productname\n",
        "\n",
        "FROM ( SELECT * FROM Orders\n",
        "\n",
        "INNER JOIN Customers\n",
        "> ON Orders.customerID = Customers.CustomerID\n",
        "\n",
        "\n",
        "\n",
        "INNER JOIN Orderdetails\n",
        "\n",
        "> ON Orders.OrderID = Orderdetails.OrderID\n",
        "\n",
        "\n",
        "INNER JOIN Products\n",
        "\n",
        "> ON Orderdetails.ProductID = Products.ProductID)\n",
        "\n",
        "WHERE Country LIKE \"germany\"\n",
        "\n",
        "GROUP BY ProductID\n",
        "\n",
        "ORDER BY SUM(Quantity) DESC\n",
        "\n",
        "\n",
        "#ANSWER:\n",
        "\t\n",
        "Country: Germany\n",
        "\n",
        "ProductID: 40\n",
        "\n",
        "SUM(Quantity):\t160\n",
        "\n",
        "ProductName: Boston Crab Meat\n",
        "\n"
      ]
    }
  ]
}